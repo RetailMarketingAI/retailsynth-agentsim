{
 "cells": [
  {
   "cell_type": "markdown",
   "metadata": {},
   "source": [
    "# Repo Introduction with A Simplified Retail Scenario"
   ]
  },
  {
   "cell_type": "code",
   "execution_count": 18,
   "metadata": {},
   "outputs": [],
   "source": [
    "from hydra import compose, initialize\n",
    "from omegaconf import OmegaConf\n",
    "import logging\n",
    "from collections import defaultdict\n",
    "import tensorflow as tf\n",
    "\n",
    "logging.basicConfig(level=logging.INFO)\n",
    "\n",
    "from retail_agent.utils.trajectory_util import get_env, get_random_policy, get_one_trajectory, get_fixed_arm_policy\n",
    "from retail_agent.utils.train_eval_util import get_last_time_step, prepare_trajectory\n",
    "from retail_agent.agents import get_retail_agent\n",
    "from retail_agent.utils.segment_util import segment_customer_by_price_sensitivity\n",
    "from retail_agent.utils.metric_util import generate_evaluation_report, generate_segmented_evaluation_report\n",
    "from retail_agent.utils.viz_util import gather_all_customer_report"
   ]
  },
  {
   "cell_type": "markdown",
   "metadata": {},
   "source": [
    "# Overview\n",
    "\n",
    "This notebook shows an example of how to use `RetailSynth-AgentSim` as a bandit environment to train a bandit agent. We pick a basic agent, LinUCB, as the starting point to prototype a training routine, and showcase the visualization toolkit. We use hydra to manage configurations for the whole experiment workflow.\n",
    "\n",
    "We do not provide a detail commentary on the results contained in this notebook, as the environment here is very simplified. Interested readers should checkout the paper referenced in the README for a more detailed discussion."
   ]
  },
  {
   "cell_type": "code",
   "execution_count": 2,
   "metadata": {},
   "outputs": [],
   "source": [
    "with initialize(version_base=None, config_path=\"../tests/cfg\"):\n",
    "    config = compose(config_name=\"agent_training\")\n",
    "    config = OmegaConf.to_object(config)"
   ]
  },
  {
   "cell_type": "code",
   "execution_count": 3,
   "metadata": {},
   "outputs": [
    {
     "name": "stderr",
     "output_type": "stream",
     "text": [
      "INFO:jax._src.xla_bridge:Unable to initialize backend 'cuda': \n",
      "INFO:jax._src.xla_bridge:Unable to initialize backend 'rocm': module 'jaxlib.xla_extension' has no attribute 'GpuAllocatorConfig'\n",
      "INFO:jax._src.xla_bridge:Unable to initialize backend 'tpu': INTERNAL: Failed to open libtpu.so: dlopen(libtpu.so, 0x0001): tried: 'libtpu.so' (no such file), '/System/Volumes/Preboot/Cryptexes/OSlibtpu.so' (no such file), '/Users/64313/miniconda3/bin/../lib/libtpu.so' (no such file), '/usr/lib/libtpu.so' (no such file, not in dyld cache), 'libtpu.so' (no such file), '/usr/local/lib/libtpu.so' (no such file), '/usr/lib/libtpu.so' (no such file, not in dyld cache)\n"
     ]
    },
    {
     "data": {
      "text/plain": [
       "dict_keys(['revenue_df', 'selected_arm_df', 'metric_df'])"
      ]
     },
     "execution_count": 3,
     "metadata": {},
     "output_type": "execute_result"
    }
   ],
   "source": [
    "# Quick walkthrough of the whole process\n",
    "n_train_traj = 3\n",
    "n_train_step = 50\n",
    "n_eval_traj = 3\n",
    "n_eval_step = 20\n",
    "\n",
    "# Collect offline data\n",
    "train_trajectories = []\n",
    "train_synthesizer = []\n",
    "last_time_step = []\n",
    "for _ in range(n_train_traj):\n",
    "    env = get_env(config)\n",
    "    random_policy = get_random_policy(env)\n",
    "    trajectory = get_one_trajectory(env, random_policy, n_train_step)\n",
    "    train_trajectories.append(trajectory)\n",
    "    train_synthesizer.append(env.synthesizer)\n",
    "    last_time_step.append(get_last_time_step(trajectory))\n",
    "\n",
    "# Train LinUCB agent\n",
    "agent = get_retail_agent(agent_type=\"linear_ucb\", time_step_spec=env.time_step_spec(), action_spec=env.action_spec(), config=config[\"agent\"][\"agent_params\"])\n",
    "train_trajectories = prepare_trajectory(train_trajectories)\n",
    "loss = agent.train(train_trajectories)\n",
    "\n",
    "# Evaluate LinUCB agent\n",
    "eval_trajectories = []\n",
    "for i in range(n_eval_traj):\n",
    "    env = get_env(config, train_synthesizer[i])\n",
    "    trajectory = get_one_trajectory(env, agent.policy, n_eval_step, last_time_step[i])\n",
    "    eval_trajectories.append(trajectory)\n",
    "report = generate_evaluation_report({\"LinUCB\": eval_trajectories}, window_length=5, product_category_mapping=train_synthesizer[0].product_category_mapping, n_arm=env.n_coupon_levels, coupon_unit=env.coupon_unit)\n",
    "\n",
    "report.keys()"
   ]
  },
  {
   "cell_type": "markdown",
   "metadata": {},
   "source": [
    "## Environment\n",
    "\n",
    "In this notebook, we are going to explore a simplified retail environment with 100 customers and 20 products from 3 categories."
   ]
  },
  {
   "cell_type": "code",
   "execution_count": 4,
   "metadata": {},
   "outputs": [
    {
     "name": "stdout",
     "output_type": "stream",
     "text": [
      "n_customer:  100\n",
      "n_product:  20\n",
      "n_category:  3\n"
     ]
    }
   ],
   "source": [
    "env = get_env(config)\n",
    "\n",
    "print(\"n_customer: \", env.synthesizer.n_customer)\n",
    "print(\"n_product: \", env.synthesizer.n_product)\n",
    "print(\"n_category: \", env.synthesizer.n_category)"
   ]
  },
  {
   "cell_type": "markdown",
   "metadata": {},
   "source": [
    "**Observation space** is a dictionary containing 4 primitive features \n",
    "- `previous_transaction`\n",
    "- `product_price`\n",
    "- `marketing_feature`\n",
    "- `observed_customer_product_feature`\n",
    "\n",
    "and 5 derived features\n",
    "- `avg_purchase_quantity`\n",
    "- `avg_purchase_probability`\n",
    "- `avg_purchase_price`\n",
    "- `avg_redeemed_discount`\n",
    "- `avg_purchase_discount`"
   ]
  },
  {
   "cell_type": "code",
   "execution_count": 5,
   "metadata": {},
   "outputs": [
    {
     "data": {
      "text/plain": [
       "{'previous_transaction': BoundedTensorSpec(shape=(20,), dtype=tf.int32, name='previous_transaction', minimum=array(0, dtype=int32), maximum=array(2147483647, dtype=int32)),\n",
       " 'product_price': BoundedTensorSpec(shape=(20,), dtype=tf.float32, name='product_price', minimum=array(0., dtype=float32), maximum=array(3.4028235e+38, dtype=float32)),\n",
       " 'marketing_feature': BoundedTensorSpec(shape=(), dtype=tf.float32, name='marketing_feature', minimum=array(0., dtype=float32), maximum=array(3.4028235e+38, dtype=float32)),\n",
       " 'observed_customer_product_feature': BoundedTensorSpec(shape=(20,), dtype=tf.float32, name='observed_customer_product_feature', minimum=array(-3.4028235e+38, dtype=float32), maximum=array(3.4028235e+38, dtype=float32)),\n",
       " 'avg_purchase_quantity': BoundedTensorSpec(shape=(), dtype=tf.float32, name='avg_purchase_quantity', minimum=array(-3.4028235e+38, dtype=float32), maximum=array(3.4028235e+38, dtype=float32)),\n",
       " 'avg_purchase_probability': BoundedTensorSpec(shape=(), dtype=tf.float32, name='avg_purchase_probability', minimum=array(-3.4028235e+38, dtype=float32), maximum=array(3.4028235e+38, dtype=float32)),\n",
       " 'avg_purchase_price': BoundedTensorSpec(shape=(), dtype=tf.float32, name='avg_purchase_price', minimum=array(-3.4028235e+38, dtype=float32), maximum=array(3.4028235e+38, dtype=float32)),\n",
       " 'avg_redeemed_discount': BoundedTensorSpec(shape=(), dtype=tf.float32, name='avg_redeemed_discount', minimum=array(-3.4028235e+38, dtype=float32), maximum=array(3.4028235e+38, dtype=float32)),\n",
       " 'avg_purchase_discount': BoundedTensorSpec(shape=(), dtype=tf.float32, name='avg_purchase_discount', minimum=array(-3.4028235e+38, dtype=float32), maximum=array(3.4028235e+38, dtype=float32))}"
      ]
     },
     "execution_count": 5,
     "metadata": {},
     "output_type": "execute_result"
    }
   ],
   "source": [
    "env.observation_spec()"
   ]
  },
  {
   "cell_type": "markdown",
   "metadata": {},
   "source": [
    "**Action Space** contains the store-wide coupon the retailer offers to each customer. This scaler feature is an integer ranging from 0 to 2, representing the distinct coupon levels. 0 means no coupon, 1 means 5% off and 2 means 10% off."
   ]
  },
  {
   "cell_type": "code",
   "execution_count": 6,
   "metadata": {},
   "outputs": [
    {
     "data": {
      "text/plain": [
       "BoundedTensorSpec(shape=(), dtype=tf.int32, name='action', minimum=array(0, dtype=int32), maximum=array(2, dtype=int32))"
      ]
     },
     "execution_count": 6,
     "metadata": {},
     "output_type": "execute_result"
    }
   ],
   "source": [
    "env.action_spec()"
   ]
  },
  {
   "cell_type": "markdown",
   "metadata": {},
   "source": [
    "**Reward space** represents the money spent by each customer."
   ]
  },
  {
   "cell_type": "code",
   "execution_count": 7,
   "metadata": {},
   "outputs": [
    {
     "data": {
      "text/plain": [
       "BoundedTensorSpec(shape=(), dtype=tf.float32, name='reward', minimum=array(0., dtype=float32), maximum=array(3.4028235e+38, dtype=float32))"
      ]
     },
     "execution_count": 7,
     "metadata": {},
     "output_type": "execute_result"
    }
   ],
   "source": [
    "env.reward_spec()"
   ]
  },
  {
   "cell_type": "markdown",
   "metadata": {},
   "source": [
    "## Train LinUCB Agent\n",
    "\n",
    "The LinUCB agent is a linear model that uses the Upper Confidence Bound (UCB) algorithm to balance exploration and exploitation. The agent will learn a linear model of reward distribution for each action and use the UCB algorithm to select the action with the highest expected reward."
   ]
  },
  {
   "cell_type": "markdown",
   "metadata": {},
   "source": [
    "We provide utility functions to collect offline training data using random policy. "
   ]
  },
  {
   "cell_type": "code",
   "execution_count": 8,
   "metadata": {},
   "outputs": [],
   "source": [
    "# Collect offline data\n",
    "n_train_traj = 3\n",
    "n_train_step = 50\n",
    "\n",
    "train_trajectories = []\n",
    "# store the training synthesizer and last time step of each trajectory\n",
    "# to make sure the evaluation starts from the last time step of the training trajectory\n",
    "train_synthesizer = []\n",
    "last_time_step = []\n",
    "for _ in range(n_train_traj):\n",
    "    env = get_env(config)\n",
    "    random_policy = get_random_policy(env)\n",
    "    trajectory = get_one_trajectory(env, random_policy, n_train_step)\n",
    "    train_trajectories.append(trajectory)\n",
    "    train_synthesizer.append(env.synthesizer)\n",
    "    last_time_step.append(get_last_time_step(trajectory))"
   ]
  },
  {
   "cell_type": "markdown",
   "metadata": {},
   "source": [
    "All of our retail agents are implemented using `tf-agents`. We train LinUCB agent with offline data in one batch, but if you'd like to train agents with mini-batches for consideration of data size and computing resources, you can maintain a for loop of training epochs and monitor the training losses."
   ]
  },
  {
   "cell_type": "code",
   "execution_count": 9,
   "metadata": {},
   "outputs": [],
   "source": [
    "agent = get_retail_agent(\n",
    "    agent_type=\"linear_ucb\",  # specify the agent type\n",
    "    time_step_spec=env.time_step_spec(),\n",
    "    action_spec=env.action_spec(),\n",
    "    config=config[\"agent\"][\"agent_params\"],  # additional agent parameters you'd like to tune\n",
    ")\n",
    "train_trajectories = prepare_trajectory(train_trajectories)\n",
    "loss = agent.train(train_trajectories)"
   ]
  },
  {
   "cell_type": "markdown",
   "metadata": {},
   "source": [
    "## Evaluate LinUCB Agent\n",
    "\n",
    "We will compare the trained LinUCB policy with fixed arm policies and random policy to illustrate our visualization toolkit."
   ]
  },
  {
   "cell_type": "code",
   "execution_count": 10,
   "metadata": {},
   "outputs": [],
   "source": [
    "def evaluate_policy(policy, n_eval_traj, n_eval_step, train_synthesizer, last_time_step):\n",
    "    eval_trajectories = []\n",
    "    for i in range(n_eval_traj):\n",
    "        env = get_env(config, train_synthesizer[i])\n",
    "        # make sure the evaluation starts from the last time step of the training trajectory\n",
    "        trajectory = get_one_trajectory(env, policy, n_eval_step, last_time_step[i])\n",
    "        eval_trajectories.append(trajectory)\n",
    "    return eval_trajectories\n",
    "\n",
    "\n",
    "evaluation_results = {}\n",
    "evaluation_results[\"LinUCB\"] = evaluate_policy(agent.policy, n_eval_traj, n_eval_step, train_synthesizer, last_time_step)\n",
    "policy = get_random_policy(env)\n",
    "evaluation_results[\"Random\"] = evaluate_policy(policy, n_eval_traj, n_eval_step, train_synthesizer, last_time_step)\n",
    "for arm_idx in range(env.n_coupon_levels):\n",
    "    policy = get_fixed_arm_policy(env, arm_idx)\n",
    "    evaluation_results[f\"FixedArm_{arm_idx}\"] = evaluate_policy(policy, n_eval_traj, n_eval_step, train_synthesizer, last_time_step)\n",
    "\n",
    "report = generate_evaluation_report(evaluation_results, window_length=5, product_category_mapping=train_synthesizer[0].product_category_mapping, n_arm=env.n_coupon_levels, coupon_unit=env.coupon_unit)"
   ]
  },
  {
   "cell_type": "markdown",
   "metadata": {},
   "source": [
    "In the report dictionary, we compute the following:\n",
    "- `metric_df`: a data frame containing the primary objective (accumulated revenue) and secondary metrics (accumulated demand, customer retention, category penetration, and empirical discount) for all policies.\n",
    "- `selected_arm_df`: a data frame containing the probability of each arm being chosen for all policies.\n",
    "- `revenue_df`: a data frame containing the accumulated revenue for all policies across all time step in evaluation trajectories. "
   ]
  },
  {
   "cell_type": "code",
   "execution_count": 11,
   "metadata": {},
   "outputs": [
    {
     "data": {
      "text/html": [
       "<div>\n",
       "<style scoped>\n",
       "    .dataframe tbody tr th:only-of-type {\n",
       "        vertical-align: middle;\n",
       "    }\n",
       "\n",
       "    .dataframe tbody tr th {\n",
       "        vertical-align: top;\n",
       "    }\n",
       "\n",
       "    .dataframe thead th {\n",
       "        text-align: right;\n",
       "    }\n",
       "</style>\n",
       "<table border=\"1\" class=\"dataframe\">\n",
       "  <thead>\n",
       "    <tr style=\"text-align: right;\">\n",
       "      <th></th>\n",
       "      <th>accumulated_revenue</th>\n",
       "      <th>accumulated_demand</th>\n",
       "      <th>customer_retention</th>\n",
       "      <th>category_penetration</th>\n",
       "      <th>empirical_discount</th>\n",
       "      <th>agent</th>\n",
       "    </tr>\n",
       "  </thead>\n",
       "  <tbody>\n",
       "    <tr>\n",
       "      <th>0</th>\n",
       "      <td>144.924103</td>\n",
       "      <td>60.0</td>\n",
       "      <td>0.13</td>\n",
       "      <td>0.60</td>\n",
       "      <td>0.022600</td>\n",
       "      <td>LinUCB</td>\n",
       "    </tr>\n",
       "    <tr>\n",
       "      <th>1</th>\n",
       "      <td>142.861084</td>\n",
       "      <td>58.0</td>\n",
       "      <td>0.13</td>\n",
       "      <td>0.58</td>\n",
       "      <td>0.023650</td>\n",
       "      <td>LinUCB</td>\n",
       "    </tr>\n",
       "    <tr>\n",
       "      <th>2</th>\n",
       "      <td>142.861084</td>\n",
       "      <td>58.0</td>\n",
       "      <td>0.13</td>\n",
       "      <td>0.58</td>\n",
       "      <td>0.023775</td>\n",
       "      <td>LinUCB</td>\n",
       "    </tr>\n",
       "    <tr>\n",
       "      <th>0</th>\n",
       "      <td>126.153328</td>\n",
       "      <td>58.0</td>\n",
       "      <td>0.20</td>\n",
       "      <td>0.58</td>\n",
       "      <td>0.048875</td>\n",
       "      <td>Random</td>\n",
       "    </tr>\n",
       "    <tr>\n",
       "      <th>1</th>\n",
       "      <td>136.501160</td>\n",
       "      <td>59.0</td>\n",
       "      <td>0.20</td>\n",
       "      <td>0.59</td>\n",
       "      <td>0.048925</td>\n",
       "      <td>Random</td>\n",
       "    </tr>\n",
       "  </tbody>\n",
       "</table>\n",
       "</div>"
      ],
      "text/plain": [
       "   accumulated_revenue  accumulated_demand  customer_retention  \\\n",
       "0           144.924103                60.0                0.13   \n",
       "1           142.861084                58.0                0.13   \n",
       "2           142.861084                58.0                0.13   \n",
       "0           126.153328                58.0                0.20   \n",
       "1           136.501160                59.0                0.20   \n",
       "\n",
       "   category_penetration  empirical_discount   agent  \n",
       "0                  0.60            0.022600  LinUCB  \n",
       "1                  0.58            0.023650  LinUCB  \n",
       "2                  0.58            0.023775  LinUCB  \n",
       "0                  0.58            0.048875  Random  \n",
       "1                  0.59            0.048925  Random  "
      ]
     },
     "execution_count": 11,
     "metadata": {},
     "output_type": "execute_result"
    }
   ],
   "source": [
    "report[\"metric_df\"].head()"
   ]
  },
  {
   "cell_type": "code",
   "execution_count": 12,
   "metadata": {},
   "outputs": [
    {
     "data": {
      "text/html": [
       "<div>\n",
       "<style scoped>\n",
       "    .dataframe tbody tr th:only-of-type {\n",
       "        vertical-align: middle;\n",
       "    }\n",
       "\n",
       "    .dataframe tbody tr th {\n",
       "        vertical-align: top;\n",
       "    }\n",
       "\n",
       "    .dataframe thead th {\n",
       "        text-align: right;\n",
       "    }\n",
       "</style>\n",
       "<table border=\"1\" class=\"dataframe\">\n",
       "  <thead>\n",
       "    <tr style=\"text-align: right;\">\n",
       "      <th></th>\n",
       "      <th>arm</th>\n",
       "      <th>prob</th>\n",
       "      <th>agent</th>\n",
       "    </tr>\n",
       "  </thead>\n",
       "  <tbody>\n",
       "    <tr>\n",
       "      <th>0</th>\n",
       "      <td>0</td>\n",
       "      <td>0.568667</td>\n",
       "      <td>LinUCB</td>\n",
       "    </tr>\n",
       "    <tr>\n",
       "      <th>1</th>\n",
       "      <td>1</td>\n",
       "      <td>0.395833</td>\n",
       "      <td>LinUCB</td>\n",
       "    </tr>\n",
       "    <tr>\n",
       "      <th>2</th>\n",
       "      <td>2</td>\n",
       "      <td>0.035500</td>\n",
       "      <td>LinUCB</td>\n",
       "    </tr>\n",
       "    <tr>\n",
       "      <th>0</th>\n",
       "      <td>0</td>\n",
       "      <td>0.341167</td>\n",
       "      <td>Random</td>\n",
       "    </tr>\n",
       "    <tr>\n",
       "      <th>1</th>\n",
       "      <td>1</td>\n",
       "      <td>0.325667</td>\n",
       "      <td>Random</td>\n",
       "    </tr>\n",
       "  </tbody>\n",
       "</table>\n",
       "</div>"
      ],
      "text/plain": [
       "   arm      prob   agent\n",
       "0    0  0.568667  LinUCB\n",
       "1    1  0.395833  LinUCB\n",
       "2    2  0.035500  LinUCB\n",
       "0    0  0.341167  Random\n",
       "1    1  0.325667  Random"
      ]
     },
     "execution_count": 12,
     "metadata": {},
     "output_type": "execute_result"
    }
   ],
   "source": [
    "report[\"selected_arm_df\"].head()"
   ]
  },
  {
   "cell_type": "code",
   "execution_count": 13,
   "metadata": {},
   "outputs": [
    {
     "data": {
      "text/html": [
       "<div>\n",
       "<style scoped>\n",
       "    .dataframe tbody tr th:only-of-type {\n",
       "        vertical-align: middle;\n",
       "    }\n",
       "\n",
       "    .dataframe tbody tr th {\n",
       "        vertical-align: top;\n",
       "    }\n",
       "\n",
       "    .dataframe thead th {\n",
       "        text-align: right;\n",
       "    }\n",
       "</style>\n",
       "<table border=\"1\" class=\"dataframe\">\n",
       "  <thead>\n",
       "    <tr style=\"text-align: right;\">\n",
       "      <th></th>\n",
       "      <th>agent</th>\n",
       "      <th>revenue</th>\n",
       "      <th>timestep</th>\n",
       "    </tr>\n",
       "  </thead>\n",
       "  <tbody>\n",
       "    <tr>\n",
       "      <th>0</th>\n",
       "      <td>LinUCB</td>\n",
       "      <td>9.350916</td>\n",
       "      <td>1</td>\n",
       "    </tr>\n",
       "    <tr>\n",
       "      <th>1</th>\n",
       "      <td>LinUCB</td>\n",
       "      <td>13.684719</td>\n",
       "      <td>2</td>\n",
       "    </tr>\n",
       "    <tr>\n",
       "      <th>2</th>\n",
       "      <td>LinUCB</td>\n",
       "      <td>15.397045</td>\n",
       "      <td>3</td>\n",
       "    </tr>\n",
       "    <tr>\n",
       "      <th>3</th>\n",
       "      <td>LinUCB</td>\n",
       "      <td>24.797962</td>\n",
       "      <td>4</td>\n",
       "    </tr>\n",
       "    <tr>\n",
       "      <th>4</th>\n",
       "      <td>LinUCB</td>\n",
       "      <td>27.797962</td>\n",
       "      <td>5</td>\n",
       "    </tr>\n",
       "  </tbody>\n",
       "</table>\n",
       "</div>"
      ],
      "text/plain": [
       "    agent    revenue  timestep\n",
       "0  LinUCB   9.350916         1\n",
       "1  LinUCB  13.684719         2\n",
       "2  LinUCB  15.397045         3\n",
       "3  LinUCB  24.797962         4\n",
       "4  LinUCB  27.797962         5"
      ]
     },
     "execution_count": 13,
     "metadata": {},
     "output_type": "execute_result"
    }
   ],
   "source": [
    "report[\"revenue_df\"].head()"
   ]
  },
  {
   "cell_type": "code",
   "execution_count": 14,
   "metadata": {},
   "outputs": [
    {
     "data": {
      "text/plain": [
       "<matplotlib.legend.Legend at 0x3214535e0>"
      ]
     },
     "execution_count": 14,
     "metadata": {},
     "output_type": "execute_result"
    },
    {
     "data": {
      "image/png": "[encoded data removed]",
      "text/plain": [
       "<Figure size 2500x400 with 6 Axes>"
      ]
     },
     "metadata": {},
     "output_type": "display_data"
    }
   ],
   "source": [
    "fig, ax = gather_all_customer_report(\n",
    "    report,\n",
    "    order=[\"LinUCB\", \"Random\", \"FixedArm_0\", \"FixedArm_1\", \"FixedArm_2\"],\n",
    ")\n",
    "ax[-2].legend(bbox_to_anchor=(0.8, -0.3))"
   ]
  },
  {
   "cell_type": "markdown",
   "metadata": {},
   "source": [
    "We can also compare the same suite of metrics on customer segments. We partition customers into 3 segments based on their price sensitivity coefficients."
   ]
  },
  {
   "cell_type": "code",
   "execution_count": 19,
   "metadata": {},
   "outputs": [],
   "source": [
    "n_segment = 2\n",
    "customer_segment = segment_customer_by_price_sensitivity(train_synthesizer[0], n_segment)\n",
    "\n",
    "segmented_evaluation_results = defaultdict(dict)\n",
    "for segment in customer_segment.keys():\n",
    "    for agent_name, traj in evaluation_results.items():\n",
    "        seg_idx = customer_segment[segment]\n",
    "        segmented_evaluation_results[segment][agent_name] = [tf.nest.map_structure(lambda x: tf.gather(x, seg_idx), t) for t in traj]\n",
    "\n",
    "segmented_report = generate_segmented_evaluation_report(segmented_evaluation_results, window_length=5, product_category_mapping=train_synthesizer[0].product_category_mapping, n_arm=env.n_coupon_levels, coupon_unit=env.coupon_unit)"
   ]
  },
  {
   "cell_type": "code",
   "execution_count": 20,
   "metadata": {},
   "outputs": [
    {
     "data": {
      "text/html": [
       "<div>\n",
       "<style scoped>\n",
       "    .dataframe tbody tr th:only-of-type {\n",
       "        vertical-align: middle;\n",
       "    }\n",
       "\n",
       "    .dataframe tbody tr th {\n",
       "        vertical-align: top;\n",
       "    }\n",
       "\n",
       "    .dataframe thead th {\n",
       "        text-align: right;\n",
       "    }\n",
       "</style>\n",
       "<table border=\"1\" class=\"dataframe\">\n",
       "  <thead>\n",
       "    <tr style=\"text-align: right;\">\n",
       "      <th></th>\n",
       "      <th>accumulated_revenue</th>\n",
       "      <th>accumulated_demand</th>\n",
       "      <th>customer_retention</th>\n",
       "      <th>category_penetration</th>\n",
       "      <th>empirical_discount</th>\n",
       "      <th>agent</th>\n",
       "      <th>segment</th>\n",
       "    </tr>\n",
       "  </thead>\n",
       "  <tbody>\n",
       "    <tr>\n",
       "      <th>0</th>\n",
       "      <td>71.958824</td>\n",
       "      <td>24.0</td>\n",
       "      <td>0.12</td>\n",
       "      <td>0.48</td>\n",
       "      <td>0.02280</td>\n",
       "      <td>LinUCB</td>\n",
       "      <td>0</td>\n",
       "    </tr>\n",
       "    <tr>\n",
       "      <th>1</th>\n",
       "      <td>71.690796</td>\n",
       "      <td>24.0</td>\n",
       "      <td>0.12</td>\n",
       "      <td>0.48</td>\n",
       "      <td>0.02435</td>\n",
       "      <td>LinUCB</td>\n",
       "      <td>0</td>\n",
       "    </tr>\n",
       "    <tr>\n",
       "      <th>2</th>\n",
       "      <td>71.690796</td>\n",
       "      <td>24.0</td>\n",
       "      <td>0.12</td>\n",
       "      <td>0.48</td>\n",
       "      <td>0.02435</td>\n",
       "      <td>LinUCB</td>\n",
       "      <td>0</td>\n",
       "    </tr>\n",
       "    <tr>\n",
       "      <th>0</th>\n",
       "      <td>41.128017</td>\n",
       "      <td>22.0</td>\n",
       "      <td>0.16</td>\n",
       "      <td>0.44</td>\n",
       "      <td>0.04985</td>\n",
       "      <td>Random</td>\n",
       "      <td>0</td>\n",
       "    </tr>\n",
       "    <tr>\n",
       "      <th>1</th>\n",
       "      <td>48.718193</td>\n",
       "      <td>23.0</td>\n",
       "      <td>0.16</td>\n",
       "      <td>0.46</td>\n",
       "      <td>0.04910</td>\n",
       "      <td>Random</td>\n",
       "      <td>0</td>\n",
       "    </tr>\n",
       "  </tbody>\n",
       "</table>\n",
       "</div>"
      ],
      "text/plain": [
       "   accumulated_revenue  accumulated_demand  customer_retention  \\\n",
       "0            71.958824                24.0                0.12   \n",
       "1            71.690796                24.0                0.12   \n",
       "2            71.690796                24.0                0.12   \n",
       "0            41.128017                22.0                0.16   \n",
       "1            48.718193                23.0                0.16   \n",
       "\n",
       "   category_penetration  empirical_discount   agent segment  \n",
       "0                  0.48             0.02280  LinUCB       0  \n",
       "1                  0.48             0.02435  LinUCB       0  \n",
       "2                  0.48             0.02435  LinUCB       0  \n",
       "0                  0.44             0.04985  Random       0  \n",
       "1                  0.46             0.04910  Random       0  "
      ]
     },
     "execution_count": 20,
     "metadata": {},
     "output_type": "execute_result"
    }
   ],
   "source": [
    "segmented_report[\"metric_df\"].head()"
   ]
  }
 ],
 "metadata": {
  "kernelspec": {
   "display_name": ".venv",
   "language": "python",
   "name": "python3"
  },
  "language_info": {
   "codemirror_mode": {
    "name": "ipython",
    "version": 3
   },
   "file_extension": ".py",
   "mimetype": "text/x-python",
   "name": "python",
   "nbconvert_exporter": "python",
   "pygments_lexer": "ipython3",
   "version": "3.10.11"
  }
 },
 "nbformat": 4,
 "nbformat_minor": 2
}
